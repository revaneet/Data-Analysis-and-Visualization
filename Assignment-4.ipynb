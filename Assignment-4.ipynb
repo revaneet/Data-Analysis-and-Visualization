{
 "cells": [
  {
   "cell_type": "markdown",
   "metadata": {},
   "source": [
    "# 1- Which team has won/lost maximum number of matches while chasing?"
   ]
  },
  {
   "cell_type": "code",
   "execution_count": 2,
   "metadata": {},
   "outputs": [],
   "source": [
    "import pandas as pd"
   ]
  },
  {
   "cell_type": "code",
   "execution_count": 3,
   "metadata": {},
   "outputs": [
    {
     "data": {
      "text/html": [
       "<div>\n",
       "<style scoped>\n",
       "    .dataframe tbody tr th:only-of-type {\n",
       "        vertical-align: middle;\n",
       "    }\n",
       "\n",
       "    .dataframe tbody tr th {\n",
       "        vertical-align: top;\n",
       "    }\n",
       "\n",
       "    .dataframe thead th {\n",
       "        text-align: right;\n",
       "    }\n",
       "</style>\n",
       "<table border=\"1\" class=\"dataframe\">\n",
       "  <thead>\n",
       "    <tr style=\"text-align: right;\">\n",
       "      <th></th>\n",
       "      <th>id</th>\n",
       "      <th>season</th>\n",
       "      <th>city</th>\n",
       "      <th>date</th>\n",
       "      <th>team1</th>\n",
       "      <th>team2</th>\n",
       "      <th>toss_winner</th>\n",
       "      <th>toss_decision</th>\n",
       "      <th>result</th>\n",
       "      <th>dl_applied</th>\n",
       "      <th>winner</th>\n",
       "      <th>win_by_runs</th>\n",
       "      <th>win_by_wickets</th>\n",
       "      <th>player_of_match</th>\n",
       "      <th>venue</th>\n",
       "      <th>umpire1</th>\n",
       "      <th>umpire2</th>\n",
       "      <th>umpire3</th>\n",
       "    </tr>\n",
       "  </thead>\n",
       "  <tbody>\n",
       "    <tr>\n",
       "      <th>0</th>\n",
       "      <td>1</td>\n",
       "      <td>2017</td>\n",
       "      <td>Hyderabad</td>\n",
       "      <td>2017-04-05</td>\n",
       "      <td>Sunrisers Hyderabad</td>\n",
       "      <td>Royal Challengers Bangalore</td>\n",
       "      <td>Royal Challengers Bangalore</td>\n",
       "      <td>field</td>\n",
       "      <td>normal</td>\n",
       "      <td>0</td>\n",
       "      <td>Sunrisers Hyderabad</td>\n",
       "      <td>35</td>\n",
       "      <td>0</td>\n",
       "      <td>Yuvraj Singh</td>\n",
       "      <td>Rajiv Gandhi International Stadium, Uppal</td>\n",
       "      <td>AY Dandekar</td>\n",
       "      <td>NJ Llong</td>\n",
       "      <td>NaN</td>\n",
       "    </tr>\n",
       "    <tr>\n",
       "      <th>1</th>\n",
       "      <td>2</td>\n",
       "      <td>2017</td>\n",
       "      <td>Pune</td>\n",
       "      <td>2017-04-06</td>\n",
       "      <td>Mumbai Indians</td>\n",
       "      <td>Rising Pune Supergiant</td>\n",
       "      <td>Rising Pune Supergiant</td>\n",
       "      <td>field</td>\n",
       "      <td>normal</td>\n",
       "      <td>0</td>\n",
       "      <td>Rising Pune Supergiant</td>\n",
       "      <td>0</td>\n",
       "      <td>7</td>\n",
       "      <td>SPD Smith</td>\n",
       "      <td>Maharashtra Cricket Association Stadium</td>\n",
       "      <td>A Nand Kishore</td>\n",
       "      <td>S Ravi</td>\n",
       "      <td>NaN</td>\n",
       "    </tr>\n",
       "    <tr>\n",
       "      <th>2</th>\n",
       "      <td>3</td>\n",
       "      <td>2017</td>\n",
       "      <td>Rajkot</td>\n",
       "      <td>2017-04-07</td>\n",
       "      <td>Gujarat Lions</td>\n",
       "      <td>Kolkata Knight Riders</td>\n",
       "      <td>Kolkata Knight Riders</td>\n",
       "      <td>field</td>\n",
       "      <td>normal</td>\n",
       "      <td>0</td>\n",
       "      <td>Kolkata Knight Riders</td>\n",
       "      <td>0</td>\n",
       "      <td>10</td>\n",
       "      <td>CA Lynn</td>\n",
       "      <td>Saurashtra Cricket Association Stadium</td>\n",
       "      <td>Nitin Menon</td>\n",
       "      <td>CK Nandan</td>\n",
       "      <td>NaN</td>\n",
       "    </tr>\n",
       "    <tr>\n",
       "      <th>3</th>\n",
       "      <td>4</td>\n",
       "      <td>2017</td>\n",
       "      <td>Indore</td>\n",
       "      <td>2017-04-08</td>\n",
       "      <td>Rising Pune Supergiant</td>\n",
       "      <td>Kings XI Punjab</td>\n",
       "      <td>Kings XI Punjab</td>\n",
       "      <td>field</td>\n",
       "      <td>normal</td>\n",
       "      <td>0</td>\n",
       "      <td>Kings XI Punjab</td>\n",
       "      <td>0</td>\n",
       "      <td>6</td>\n",
       "      <td>GJ Maxwell</td>\n",
       "      <td>Holkar Cricket Stadium</td>\n",
       "      <td>AK Chaudhary</td>\n",
       "      <td>C Shamshuddin</td>\n",
       "      <td>NaN</td>\n",
       "    </tr>\n",
       "    <tr>\n",
       "      <th>4</th>\n",
       "      <td>5</td>\n",
       "      <td>2017</td>\n",
       "      <td>Bangalore</td>\n",
       "      <td>2017-04-08</td>\n",
       "      <td>Royal Challengers Bangalore</td>\n",
       "      <td>Delhi Daredevils</td>\n",
       "      <td>Royal Challengers Bangalore</td>\n",
       "      <td>bat</td>\n",
       "      <td>normal</td>\n",
       "      <td>0</td>\n",
       "      <td>Royal Challengers Bangalore</td>\n",
       "      <td>15</td>\n",
       "      <td>0</td>\n",
       "      <td>KM Jadhav</td>\n",
       "      <td>M Chinnaswamy Stadium</td>\n",
       "      <td>NaN</td>\n",
       "      <td>NaN</td>\n",
       "      <td>NaN</td>\n",
       "    </tr>\n",
       "  </tbody>\n",
       "</table>\n",
       "</div>"
      ],
      "text/plain": [
       "   id  season       city        date                        team1  \\\n",
       "0   1    2017  Hyderabad  2017-04-05          Sunrisers Hyderabad   \n",
       "1   2    2017       Pune  2017-04-06               Mumbai Indians   \n",
       "2   3    2017     Rajkot  2017-04-07                Gujarat Lions   \n",
       "3   4    2017     Indore  2017-04-08       Rising Pune Supergiant   \n",
       "4   5    2017  Bangalore  2017-04-08  Royal Challengers Bangalore   \n",
       "\n",
       "                         team2                  toss_winner toss_decision  \\\n",
       "0  Royal Challengers Bangalore  Royal Challengers Bangalore         field   \n",
       "1       Rising Pune Supergiant       Rising Pune Supergiant         field   \n",
       "2        Kolkata Knight Riders        Kolkata Knight Riders         field   \n",
       "3              Kings XI Punjab              Kings XI Punjab         field   \n",
       "4             Delhi Daredevils  Royal Challengers Bangalore           bat   \n",
       "\n",
       "   result  dl_applied                       winner  win_by_runs  \\\n",
       "0  normal           0          Sunrisers Hyderabad           35   \n",
       "1  normal           0       Rising Pune Supergiant            0   \n",
       "2  normal           0        Kolkata Knight Riders            0   \n",
       "3  normal           0              Kings XI Punjab            0   \n",
       "4  normal           0  Royal Challengers Bangalore           15   \n",
       "\n",
       "   win_by_wickets player_of_match                                      venue  \\\n",
       "0               0    Yuvraj Singh  Rajiv Gandhi International Stadium, Uppal   \n",
       "1               7       SPD Smith    Maharashtra Cricket Association Stadium   \n",
       "2              10         CA Lynn     Saurashtra Cricket Association Stadium   \n",
       "3               6      GJ Maxwell                     Holkar Cricket Stadium   \n",
       "4               0       KM Jadhav                      M Chinnaswamy Stadium   \n",
       "\n",
       "          umpire1        umpire2 umpire3  \n",
       "0     AY Dandekar       NJ Llong     NaN  \n",
       "1  A Nand Kishore         S Ravi     NaN  \n",
       "2     Nitin Menon      CK Nandan     NaN  \n",
       "3    AK Chaudhary  C Shamshuddin     NaN  \n",
       "4             NaN            NaN     NaN  "
      ]
     },
     "execution_count": 3,
     "metadata": {},
     "output_type": "execute_result"
    }
   ],
   "source": [
    "matches_df=pd.read_csv(\"matches.csv\")\n",
    "matches_df.head()"
   ]
  },
  {
   "cell_type": "code",
   "execution_count": 5,
   "metadata": {},
   "outputs": [
    {
     "data": {
      "text/plain": [
       "Kolkata Knight Riders    58\n",
       "Name: winner, dtype: int64"
      ]
     },
     "execution_count": 5,
     "metadata": {},
     "output_type": "execute_result"
    }
   ],
   "source": [
    "\n",
    "query_df=matches_df.query(\" toss_winner==winner & toss_decision=='field' | toss_winner!=winner & toss_decision=='bat' \")\n",
    "winnerNum=query_df['winner'].value_counts().head(1)\n",
    "winnerNum\n"
   ]
  },
  {
   "cell_type": "markdown",
   "metadata": {},
   "source": [
    "# 2- Which toss decision is best for each ground?"
   ]
  },
  {
   "cell_type": "code",
   "execution_count": 47,
   "metadata": {},
   "outputs": [
    {
     "name": "stdout",
     "output_type": "stream",
     "text": [
      "Wankhede Stadium  is best for fielding\n",
      "Feroz Shah Kotla  is best for fielding\n",
      "MA Chidambaram Stadium, Chepauk  is best for batting\n",
      "Eden Gardens  is best for fielding\n",
      "M Chinnaswamy Stadium  is best for fielding\n",
      "Rajiv Gandhi International Stadium, Uppal  is best for fielding\n",
      "Sawai Mansingh Stadium  is best for fielding\n",
      "Punjab Cricket Association Stadium, Mohali  is best for fielding\n",
      "Subrata Roy Sahara Stadium  is best for batting\n",
      "Kingsmead  is best for batting\n",
      "Dr DY Patil Sports Academy  is best for fielding\n",
      "Maharashtra Cricket Association Stadium  is best for fielding\n",
      "Punjab Cricket Association IS Bindra Stadium, Mohali  is best for fielding\n",
      "Brabourne Stadium  is best for batting\n",
      "Sardar Patel Stadium, Motera  is best for fielding\n",
      "Dr. Y.S. Rajasekhara Reddy ACA-VDCA Cricket Stadium  is best for batting\n",
      "Himachal Pradesh Cricket Association Stadium  is best for batting\n",
      "Rajiv Gandhi Intl. Cricket Stadium  is best for batting\n",
      "Newlands  is best for batting\n",
      "Sheikh Zayed Stadium  is best for batting\n",
      "M. A. Chidambaram Stadium  is best for fielding\n",
      "Barabati Stadium  is best for batting\n",
      "SuperSport Park  is best for fielding\n",
      "Dubai International Cricket Stadium  is best for fielding\n",
      "Saurashtra Cricket Association Stadium  is best for fielding\n",
      "Nehru Stadium  is best for batting\n",
      "New Wanderers Stadium  is best for fielding\n",
      "St George's Park  is best for fielding\n",
      "M. Chinnaswamy Stadium  is best for fielding\n",
      "Buffalo Park  is best for batting\n",
      "Vidarbha Cricket Association Stadium, Jamtha  is best for batting\n",
      "Sharjah Cricket Stadium  is best for fielding\n",
      "Feroz Shah Kotla Ground  is best for fielding\n",
      "Shaheed Veer Narayan Singh International Stadium  is best for fielding\n",
      "IS Bindra Stadium  is best for fielding\n",
      "JSCA International Stadium Complex  is best for fielding\n",
      "De Beers Diamond Oval  is best for fielding\n",
      "OUTsurance Oval  is best for fielding\n",
      "Holkar Cricket Stadium  is best for fielding\n"
     ]
    }
   ],
   "source": [
    "data=pd.read_csv(\"matches.csv\")\n",
    "batting_wins=data[data['winner']==data['team1']]\n",
    "fielding_wins=data[data['winner']==data['team2']]\n",
    "grounds=batting_wins['venue'].value_counts().index\n",
    "for ground in grounds:\n",
    "    if batting_wins['venue'].value_counts()[ground]>fielding_wins['venue'].value_counts()[ground]:\n",
    "        print( ground,\" is best for batting\")\n",
    "        \n",
    "    else:\n",
    "        print(ground,\" is best for fielding\")"
   ]
  },
  {
   "cell_type": "markdown",
   "metadata": {},
   "source": [
    "# 3-Which player has won maximum number of MoM awards while chasing ?"
   ]
  },
  {
   "cell_type": "code",
   "execution_count": 6,
   "metadata": {},
   "outputs": [
    {
     "data": {
      "text/plain": [
       "YK Pathan    11\n",
       "Name: player_of_match, dtype: int64"
      ]
     },
     "execution_count": 6,
     "metadata": {},
     "output_type": "execute_result"
    }
   ],
   "source": [
    "query_df['player_of_match'].value_counts().head(1)"
   ]
  },
  {
   "cell_type": "markdown",
   "metadata": {},
   "source": [
    " # 4- Which batsman has played maximum number of dot balls?"
   ]
  },
  {
   "cell_type": "code",
   "execution_count": 7,
   "metadata": {},
   "outputs": [
    {
     "data": {
      "text/html": [
       "<div>\n",
       "<style scoped>\n",
       "    .dataframe tbody tr th:only-of-type {\n",
       "        vertical-align: middle;\n",
       "    }\n",
       "\n",
       "    .dataframe tbody tr th {\n",
       "        vertical-align: top;\n",
       "    }\n",
       "\n",
       "    .dataframe thead th {\n",
       "        text-align: right;\n",
       "    }\n",
       "</style>\n",
       "<table border=\"1\" class=\"dataframe\">\n",
       "  <thead>\n",
       "    <tr style=\"text-align: right;\">\n",
       "      <th></th>\n",
       "      <th>match_id</th>\n",
       "      <th>inning</th>\n",
       "      <th>batting_team</th>\n",
       "      <th>bowling_team</th>\n",
       "      <th>over</th>\n",
       "      <th>ball</th>\n",
       "      <th>batsman</th>\n",
       "      <th>non_striker</th>\n",
       "      <th>bowler</th>\n",
       "      <th>is_super_over</th>\n",
       "      <th>...</th>\n",
       "      <th>bye_runs</th>\n",
       "      <th>legbye_runs</th>\n",
       "      <th>noball_runs</th>\n",
       "      <th>penalty_runs</th>\n",
       "      <th>batsman_runs</th>\n",
       "      <th>extra_runs</th>\n",
       "      <th>total_runs</th>\n",
       "      <th>player_dismissed</th>\n",
       "      <th>dismissal_kind</th>\n",
       "      <th>fielder</th>\n",
       "    </tr>\n",
       "  </thead>\n",
       "  <tbody>\n",
       "    <tr>\n",
       "      <th>0</th>\n",
       "      <td>1</td>\n",
       "      <td>1</td>\n",
       "      <td>Sunrisers Hyderabad</td>\n",
       "      <td>Royal Challengers Bangalore</td>\n",
       "      <td>1</td>\n",
       "      <td>1</td>\n",
       "      <td>DA Warner</td>\n",
       "      <td>S Dhawan</td>\n",
       "      <td>TS Mills</td>\n",
       "      <td>0</td>\n",
       "      <td>...</td>\n",
       "      <td>0</td>\n",
       "      <td>0</td>\n",
       "      <td>0</td>\n",
       "      <td>0</td>\n",
       "      <td>0</td>\n",
       "      <td>0</td>\n",
       "      <td>0</td>\n",
       "      <td>NaN</td>\n",
       "      <td>NaN</td>\n",
       "      <td>NaN</td>\n",
       "    </tr>\n",
       "    <tr>\n",
       "      <th>1</th>\n",
       "      <td>1</td>\n",
       "      <td>1</td>\n",
       "      <td>Sunrisers Hyderabad</td>\n",
       "      <td>Royal Challengers Bangalore</td>\n",
       "      <td>1</td>\n",
       "      <td>2</td>\n",
       "      <td>DA Warner</td>\n",
       "      <td>S Dhawan</td>\n",
       "      <td>TS Mills</td>\n",
       "      <td>0</td>\n",
       "      <td>...</td>\n",
       "      <td>0</td>\n",
       "      <td>0</td>\n",
       "      <td>0</td>\n",
       "      <td>0</td>\n",
       "      <td>0</td>\n",
       "      <td>0</td>\n",
       "      <td>0</td>\n",
       "      <td>NaN</td>\n",
       "      <td>NaN</td>\n",
       "      <td>NaN</td>\n",
       "    </tr>\n",
       "    <tr>\n",
       "      <th>2</th>\n",
       "      <td>1</td>\n",
       "      <td>1</td>\n",
       "      <td>Sunrisers Hyderabad</td>\n",
       "      <td>Royal Challengers Bangalore</td>\n",
       "      <td>1</td>\n",
       "      <td>3</td>\n",
       "      <td>DA Warner</td>\n",
       "      <td>S Dhawan</td>\n",
       "      <td>TS Mills</td>\n",
       "      <td>0</td>\n",
       "      <td>...</td>\n",
       "      <td>0</td>\n",
       "      <td>0</td>\n",
       "      <td>0</td>\n",
       "      <td>0</td>\n",
       "      <td>4</td>\n",
       "      <td>0</td>\n",
       "      <td>4</td>\n",
       "      <td>NaN</td>\n",
       "      <td>NaN</td>\n",
       "      <td>NaN</td>\n",
       "    </tr>\n",
       "    <tr>\n",
       "      <th>3</th>\n",
       "      <td>1</td>\n",
       "      <td>1</td>\n",
       "      <td>Sunrisers Hyderabad</td>\n",
       "      <td>Royal Challengers Bangalore</td>\n",
       "      <td>1</td>\n",
       "      <td>4</td>\n",
       "      <td>DA Warner</td>\n",
       "      <td>S Dhawan</td>\n",
       "      <td>TS Mills</td>\n",
       "      <td>0</td>\n",
       "      <td>...</td>\n",
       "      <td>0</td>\n",
       "      <td>0</td>\n",
       "      <td>0</td>\n",
       "      <td>0</td>\n",
       "      <td>0</td>\n",
       "      <td>0</td>\n",
       "      <td>0</td>\n",
       "      <td>NaN</td>\n",
       "      <td>NaN</td>\n",
       "      <td>NaN</td>\n",
       "    </tr>\n",
       "    <tr>\n",
       "      <th>4</th>\n",
       "      <td>1</td>\n",
       "      <td>1</td>\n",
       "      <td>Sunrisers Hyderabad</td>\n",
       "      <td>Royal Challengers Bangalore</td>\n",
       "      <td>1</td>\n",
       "      <td>5</td>\n",
       "      <td>DA Warner</td>\n",
       "      <td>S Dhawan</td>\n",
       "      <td>TS Mills</td>\n",
       "      <td>0</td>\n",
       "      <td>...</td>\n",
       "      <td>0</td>\n",
       "      <td>0</td>\n",
       "      <td>0</td>\n",
       "      <td>0</td>\n",
       "      <td>0</td>\n",
       "      <td>2</td>\n",
       "      <td>2</td>\n",
       "      <td>NaN</td>\n",
       "      <td>NaN</td>\n",
       "      <td>NaN</td>\n",
       "    </tr>\n",
       "  </tbody>\n",
       "</table>\n",
       "<p>5 rows × 21 columns</p>\n",
       "</div>"
      ],
      "text/plain": [
       "   match_id  inning         batting_team                 bowling_team  over  \\\n",
       "0         1       1  Sunrisers Hyderabad  Royal Challengers Bangalore     1   \n",
       "1         1       1  Sunrisers Hyderabad  Royal Challengers Bangalore     1   \n",
       "2         1       1  Sunrisers Hyderabad  Royal Challengers Bangalore     1   \n",
       "3         1       1  Sunrisers Hyderabad  Royal Challengers Bangalore     1   \n",
       "4         1       1  Sunrisers Hyderabad  Royal Challengers Bangalore     1   \n",
       "\n",
       "   ball    batsman non_striker    bowler  is_super_over   ...    bye_runs  \\\n",
       "0     1  DA Warner    S Dhawan  TS Mills              0   ...           0   \n",
       "1     2  DA Warner    S Dhawan  TS Mills              0   ...           0   \n",
       "2     3  DA Warner    S Dhawan  TS Mills              0   ...           0   \n",
       "3     4  DA Warner    S Dhawan  TS Mills              0   ...           0   \n",
       "4     5  DA Warner    S Dhawan  TS Mills              0   ...           0   \n",
       "\n",
       "   legbye_runs  noball_runs  penalty_runs  batsman_runs  extra_runs  \\\n",
       "0            0            0             0             0           0   \n",
       "1            0            0             0             0           0   \n",
       "2            0            0             0             4           0   \n",
       "3            0            0             0             0           0   \n",
       "4            0            0             0             0           2   \n",
       "\n",
       "   total_runs  player_dismissed dismissal_kind fielder  \n",
       "0           0               NaN            NaN     NaN  \n",
       "1           0               NaN            NaN     NaN  \n",
       "2           4               NaN            NaN     NaN  \n",
       "3           0               NaN            NaN     NaN  \n",
       "4           2               NaN            NaN     NaN  \n",
       "\n",
       "[5 rows x 21 columns]"
      ]
     },
     "execution_count": 7,
     "metadata": {},
     "output_type": "execute_result"
    }
   ],
   "source": [
    "deliveries_df=pd.read_csv(\"deliveries.csv\")\n",
    "deliveries_df.head()"
   ]
  },
  {
   "cell_type": "code",
   "execution_count": 8,
   "metadata": {},
   "outputs": [
    {
     "data": {
      "text/plain": [
       "V Kohli    1369\n",
       "Name: batsman, dtype: int64"
      ]
     },
     "execution_count": 8,
     "metadata": {},
     "output_type": "execute_result"
    }
   ],
   "source": [
    "query_df=deliveries_df.query(\" total_runs=='0' \")\n",
    "query_df['batsman'].value_counts().head(1)"
   ]
  },
  {
   "cell_type": "markdown",
   "metadata": {},
   "source": [
    "# 5-Which batsmen came to crease but never got a chance to face a ball?"
   ]
  },
  {
   "cell_type": "code",
   "execution_count": 38,
   "metadata": {},
   "outputs": [
    {
     "data": {
      "text/plain": [
       "25297             A Nel\n",
       "25298             A Nel\n",
       "25299             A Nel\n",
       "47770       C Ganapathy\n",
       "47771       C Ganapathy\n",
       "73812      TP Sudhindra\n",
       "110217    BW Hilfenhaus\n",
       "Name: non_striker, dtype: object"
      ]
     },
     "execution_count": 38,
     "metadata": {},
     "output_type": "execute_result"
    }
   ],
   "source": [
    "c=deliveries_df['batsman']\n",
    "d=deliveries_df[~deliveries_df['non_striker'].isin(c)]\n",
    "final=d['non_striker']\n",
    "final"
   ]
  },
  {
   "cell_type": "markdown",
   "metadata": {},
   "source": [
    "# 6-Which bowler has hit for maximum number of 1s/2s/3s/4s/6s?"
   ]
  },
  {
   "cell_type": "code",
   "execution_count": 9,
   "metadata": {},
   "outputs": [
    {
     "data": {
      "text/plain": [
       "Harbhajan Singh    1549\n",
       "Name: bowler, dtype: int64"
      ]
     },
     "execution_count": 9,
     "metadata": {},
     "output_type": "execute_result"
    }
   ],
   "source": [
    "query_df=deliveries_df.query(\"total_runs=='1'\")\n",
    "query_df['bowler'].value_counts().head(1)"
   ]
  },
  {
   "cell_type": "code",
   "execution_count": 10,
   "metadata": {},
   "outputs": [
    {
     "data": {
      "text/plain": [
       "DJ Bravo    258\n",
       "Name: bowler, dtype: int64"
      ]
     },
     "execution_count": 10,
     "metadata": {},
     "output_type": "execute_result"
    }
   ],
   "source": [
    "query_df=deliveries_df.query(\"total_runs=='2'\")\n",
    "query_df['bowler'].value_counts().head(1)"
   ]
  },
  {
   "cell_type": "code",
   "execution_count": 12,
   "metadata": {},
   "outputs": [
    {
     "data": {
      "text/plain": [
       "P Kumar    18\n",
       "Name: bowler, dtype: int64"
      ]
     },
     "execution_count": 12,
     "metadata": {},
     "output_type": "execute_result"
    }
   ],
   "source": [
    "query_df=deliveries_df.query(\"total_runs=='3'\")\n",
    "query_df['bowler'].value_counts().head(1)"
   ]
  },
  {
   "cell_type": "code",
   "execution_count": 13,
   "metadata": {},
   "outputs": [
    {
     "data": {
      "text/plain": [
       "UT Yadav    389\n",
       "Name: bowler, dtype: int64"
      ]
     },
     "execution_count": 13,
     "metadata": {},
     "output_type": "execute_result"
    }
   ],
   "source": [
    "query_df=deliveries_df.query(\"total_runs=='4'\")\n",
    "query_df['bowler'].value_counts().head(1)"
   ]
  },
  {
   "cell_type": "code",
   "execution_count": 14,
   "metadata": {},
   "outputs": [
    {
     "data": {
      "text/plain": [
       "PP Chawla    171\n",
       "Name: bowler, dtype: int64"
      ]
     },
     "execution_count": 14,
     "metadata": {},
     "output_type": "execute_result"
    }
   ],
   "source": [
    "query_df=deliveries_df.query(\"total_runs=='6'\")\n",
    "query_df['bowler'].value_counts().head(1)"
   ]
  },
  {
   "cell_type": "markdown",
   "metadata": {},
   "source": [
    "# 7- Which batsman got stumped out maximum number of times?"
   ]
  },
  {
   "cell_type": "code",
   "execution_count": 15,
   "metadata": {},
   "outputs": [
    {
     "data": {
      "text/plain": [
       "SK Raina    8\n",
       "Name: batsman, dtype: int64"
      ]
     },
     "execution_count": 15,
     "metadata": {},
     "output_type": "execute_result"
    }
   ],
   "source": [
    "query_df=deliveries_df.query(\"dismissal_kind=='stumped'\")\n",
    "query_df['batsman'].value_counts().head(1)\n"
   ]
  },
  {
   "cell_type": "markdown",
   "metadata": {},
   "source": [
    "# 8-Which non-striker has been part of maximum number of runouts?"
   ]
  },
  {
   "cell_type": "code",
   "execution_count": 16,
   "metadata": {},
   "outputs": [
    {
     "data": {
      "text/plain": [
       "SK Raina    16\n",
       "Name: non_striker, dtype: int64"
      ]
     },
     "execution_count": 16,
     "metadata": {},
     "output_type": "execute_result"
    }
   ],
   "source": [
    "query_df=deliveries_df.query(\"dismissal_kind=='run out'\")\n",
    "query_df['non_striker'].value_counts().head(1)"
   ]
  },
  {
   "cell_type": "markdown",
   "metadata": {},
   "source": [
    "# 9-Make at least 5 more new queries and find answers to them."
   ]
  },
  {
   "cell_type": "markdown",
   "metadata": {},
   "source": [
    "# 9.1- which team has played maximum super overs while defending?"
   ]
  },
  {
   "cell_type": "code",
   "execution_count": 19,
   "metadata": {},
   "outputs": [
    {
     "data": {
      "text/plain": [
       "Rajasthan Royals               20\n",
       "Royal Challengers Bangalore    13\n",
       "Kolkata Knight Riders          10\n",
       "Kings XI Punjab                 9\n",
       "Mumbai Indians                  8\n",
       "Delhi Daredevils                6\n",
       "Sunrisers Hyderabad             6\n",
       "Gujarat Lions                   5\n",
       "Chennai Super Kings             4\n",
       "Name: bowling_team, dtype: int64"
      ]
     },
     "execution_count": 19,
     "metadata": {},
     "output_type": "execute_result"
    }
   ],
   "source": [
    "a=deliveries_df.query(\"is_super_over=='1'\")\n",
    "b=a[\"bowling_team\"].value_counts()\n",
    "b"
   ]
  },
  {
   "cell_type": "code",
   "execution_count": 20,
   "metadata": {},
   "outputs": [
    {
     "data": {
      "text/html": [
       "<div>\n",
       "<style scoped>\n",
       "    .dataframe tbody tr th:only-of-type {\n",
       "        vertical-align: middle;\n",
       "    }\n",
       "\n",
       "    .dataframe tbody tr th {\n",
       "        vertical-align: top;\n",
       "    }\n",
       "\n",
       "    .dataframe thead th {\n",
       "        text-align: right;\n",
       "    }\n",
       "</style>\n",
       "<table border=\"1\" class=\"dataframe\">\n",
       "  <thead>\n",
       "    <tr style=\"text-align: right;\">\n",
       "      <th></th>\n",
       "      <th>defending_team</th>\n",
       "      <th>super_overs</th>\n",
       "    </tr>\n",
       "  </thead>\n",
       "  <tbody>\n",
       "    <tr>\n",
       "      <th>0</th>\n",
       "      <td>Rajasthan Royals</td>\n",
       "      <td>20</td>\n",
       "    </tr>\n",
       "  </tbody>\n",
       "</table>\n",
       "</div>"
      ],
      "text/plain": [
       "     defending_team  super_overs\n",
       "0  Rajasthan Royals           20"
      ]
     },
     "execution_count": 20,
     "metadata": {},
     "output_type": "execute_result"
    }
   ],
   "source": [
    "df1= pd.DataFrame(data=b.index, columns=['defending_team'])\n",
    "df2 = pd.DataFrame(data=b.values, columns=['super_overs'])\n",
    "d2 = pd.merge(df1, df2, left_index=True, right_index=True)\n",
    "d2\n",
    "df3 = d2.iloc[[0]]\n",
    "df3"
   ]
  },
  {
   "cell_type": "markdown",
   "metadata": {},
   "source": [
    "# 9.2- which team has bowled maximum no balls?"
   ]
  },
  {
   "cell_type": "code",
   "execution_count": 22,
   "metadata": {},
   "outputs": [
    {
     "data": {
      "text/plain": [
       "Mumbai Indians                 105\n",
       "Kings XI Punjab                 96\n",
       "Royal Challengers Bangalore     91\n",
       "Delhi Daredevils                86\n",
       "Kolkata Knight Riders           77\n",
       "Rajasthan Royals                68\n",
       "Chennai Super Kings             59\n",
       "Deccan Chargers                 49\n",
       "Sunrisers Hyderabad             30\n",
       "Pune Warriors                   26\n",
       "Delhi Capitals                   8\n",
       "Gujarat Lions                    7\n",
       "Kochi Tuskers Kerala             7\n",
       "Rising Pune Supergiants          4\n",
       "Rising Pune Supergiant           1\n",
       "Name: bowling_team, dtype: int64"
      ]
     },
     "execution_count": 22,
     "metadata": {},
     "output_type": "execute_result"
    }
   ],
   "source": [
    "a=deliveries_df.query(\"noball_runs !='0'\")\n",
    "b=a[\"bowling_team\"].value_counts()\n",
    "b"
   ]
  },
  {
   "cell_type": "code",
   "execution_count": 23,
   "metadata": {},
   "outputs": [
    {
     "data": {
      "text/html": [
       "<div>\n",
       "<style scoped>\n",
       "    .dataframe tbody tr th:only-of-type {\n",
       "        vertical-align: middle;\n",
       "    }\n",
       "\n",
       "    .dataframe tbody tr th {\n",
       "        vertical-align: top;\n",
       "    }\n",
       "\n",
       "    .dataframe thead th {\n",
       "        text-align: right;\n",
       "    }\n",
       "</style>\n",
       "<table border=\"1\" class=\"dataframe\">\n",
       "  <thead>\n",
       "    <tr style=\"text-align: right;\">\n",
       "      <th></th>\n",
       "      <th>Team</th>\n",
       "      <th>NO_BALLS</th>\n",
       "    </tr>\n",
       "  </thead>\n",
       "  <tbody>\n",
       "    <tr>\n",
       "      <th>0</th>\n",
       "      <td>Mumbai Indians</td>\n",
       "      <td>105</td>\n",
       "    </tr>\n",
       "  </tbody>\n",
       "</table>\n",
       "</div>"
      ],
      "text/plain": [
       "             Team  NO_BALLS\n",
       "0  Mumbai Indians       105"
      ]
     },
     "execution_count": 23,
     "metadata": {},
     "output_type": "execute_result"
    }
   ],
   "source": [
    "df1= pd.DataFrame(data=b.index, columns=['Team'])\n",
    "df2 = pd.DataFrame(data=b.values, columns=['NO_BALLS'])\n",
    "d2 = pd.merge(df1, df2, left_index=True, right_index=True)\n",
    "d2\n",
    "df3 = d2.iloc[[0]]\n",
    "df3"
   ]
  },
  {
   "cell_type": "markdown",
   "metadata": {},
   "source": [
    "# 9.3- Which player has caught maximum catches ?"
   ]
  },
  {
   "cell_type": "code",
   "execution_count": 24,
   "metadata": {},
   "outputs": [
    {
     "data": {
      "text/plain": [
       "MS Dhoni                 159\n",
       "KD Karthik               152\n",
       "RV Uthappa               125\n",
       "SK Raina                 115\n",
       "AB de Villiers           114\n",
       "PA Patel                  97\n",
       "RG Sharma                 92\n",
       "V Kohli                   90\n",
       "KA Pollard                85\n",
       "NV Ojha                   82\n",
       "WP Saha                   82\n",
       "RA Jadeja                 80\n",
       "DJ Bravo                  78\n",
       "MK Pandey                 77\n",
       "AC Gilchrist              75\n",
       "S Dhawan                  73\n",
       "AT Rayudu                 65\n",
       "DA Warner                 62\n",
       "AM Rahane                 62\n",
       "KC Sangakkara             58\n",
       "SV Samson                 56\n",
       "DA Miller                 53\n",
       "YK Pathan                 51\n",
       "SPD Smith                 51\n",
       "BB McCullum               50\n",
       "M Vijay                   49\n",
       "MK Tiwary                 49\n",
       "HH Pandya                 48\n",
       "F du Plessis              47\n",
       "Harbhajan Singh           46\n",
       "                        ... \n",
       "KH Devdhar                 1\n",
       "JP Duminy (sub)            1\n",
       "AR Patel (sub)             1\n",
       "F du Plessis (sub)         1\n",
       "R Shukla (sub)             1\n",
       "H Viljoen                  1\n",
       "Sunny Singh                1\n",
       "S Dube                     1\n",
       "NL McCullum                1\n",
       "B Aparajith (sub)          1\n",
       "J Syed Mohammad            1\n",
       "BAW Mendis                 1\n",
       "S Midhun                   1\n",
       "R Vinay Kumar (sub)        1\n",
       "T Curran                   1\n",
       "A Mukund (sub)             1\n",
       "Misbah-ul-Haq              1\n",
       "BB McCullum (sub)          1\n",
       "K Upadhyay                 1\n",
       "TS Mills                   1\n",
       "RG More                    1\n",
       "MA Agarwal (sub)           1\n",
       "AN Ghosh                   1\n",
       "B Laughlin                 1\n",
       "MD Mishra                  1\n",
       "WD Parnell (sub)           1\n",
       "Shivam Sharma              1\n",
       "UA Birla                   1\n",
       "KB Arun Karthik (sub)      1\n",
       "HH Pandya (sub)            1\n",
       "Name: fielder, Length: 499, dtype: int64"
      ]
     },
     "execution_count": 24,
     "metadata": {},
     "output_type": "execute_result"
    }
   ],
   "source": [
    "a=deliveries_df[\"fielder\"].value_counts()\n",
    "a"
   ]
  },
  {
   "cell_type": "code",
   "execution_count": 25,
   "metadata": {},
   "outputs": [
    {
     "data": {
      "text/html": [
       "<div>\n",
       "<style scoped>\n",
       "    .dataframe tbody tr th:only-of-type {\n",
       "        vertical-align: middle;\n",
       "    }\n",
       "\n",
       "    .dataframe tbody tr th {\n",
       "        vertical-align: top;\n",
       "    }\n",
       "\n",
       "    .dataframe thead th {\n",
       "        text-align: right;\n",
       "    }\n",
       "</style>\n",
       "<table border=\"1\" class=\"dataframe\">\n",
       "  <thead>\n",
       "    <tr style=\"text-align: right;\">\n",
       "      <th></th>\n",
       "      <th>Player</th>\n",
       "      <th>NO of catches</th>\n",
       "    </tr>\n",
       "  </thead>\n",
       "  <tbody>\n",
       "    <tr>\n",
       "      <th>0</th>\n",
       "      <td>MS Dhoni</td>\n",
       "      <td>159</td>\n",
       "    </tr>\n",
       "  </tbody>\n",
       "</table>\n",
       "</div>"
      ],
      "text/plain": [
       "     Player  NO of catches\n",
       "0  MS Dhoni            159"
      ]
     },
     "execution_count": 25,
     "metadata": {},
     "output_type": "execute_result"
    }
   ],
   "source": [
    "df1= pd.DataFrame(data=a.index, columns=['Player'])\n",
    "df2 = pd.DataFrame(data=a.values, columns=['NO of catches'])\n",
    "d2 = pd.merge(df1, df2, left_index=True, right_index=True)\n",
    "d2\n",
    "df3 = d2.iloc[[0]]\n",
    "df3"
   ]
  },
  {
   "cell_type": "markdown",
   "metadata": {},
   "source": [
    "# 9.4-Which bowler has took maximum wickets ?"
   ]
  },
  {
   "cell_type": "code",
   "execution_count": 26,
   "metadata": {},
   "outputs": [
    {
     "data": {
      "text/plain": [
       "Harbhajan Singh     3440\n",
       "A Mishra            3163\n",
       "PP Chawla           3150\n",
       "R Ashwin            3003\n",
       "SL Malinga          2956\n",
       "B Kumar             2699\n",
       "DJ Bravo            2690\n",
       "P Kumar             2625\n",
       "UT Yadav            2588\n",
       "SP Narine           2585\n",
       "RA Jadeja           2533\n",
       "Z Khan              2260\n",
       "DW Steyn            2199\n",
       "R Vinay Kumar       2164\n",
       "SR Watson           2122\n",
       "IK Pathan           2094\n",
       "I Sharma            1997\n",
       "A Nehra             1959\n",
       "PP Ojha             1935\n",
       "RP Singh            1864\n",
       "YS Chahal           1839\n",
       "DS Kulkarni         1825\n",
       "JA Morkel           1796\n",
       "JH Kallis           1790\n",
       "JJ Bumrah           1789\n",
       "MM Sharma           1762\n",
       "AR Patel            1740\n",
       "M Morkel            1688\n",
       "R Bhatia            1650\n",
       "M Muralitharan      1578\n",
       "                    ... \n",
       "LRPL Taylor           13\n",
       "C Munro               12\n",
       "AA Kazi               12\n",
       "RR Bhatkal            12\n",
       "RR Bose               12\n",
       "Mandeep Singh         12\n",
       "S Dube                11\n",
       "FY Fazal              11\n",
       "Sachin Baby            9\n",
       "BJ Rohrer              7\n",
       "SS Mundhe              7\n",
       "LA Carseldine          7\n",
       "RS Gavaskar            6\n",
       "LPC Silva              6\n",
       "AM Rahane              6\n",
       "P Prasanth             6\n",
       "Y Gnaneswara Rao       6\n",
       "SA Yadav               6\n",
       "RA Tripathi            6\n",
       "B Chipli               6\n",
       "L Livingstone          6\n",
       "KS Williamson          6\n",
       "F du Plessis           6\n",
       "I Malhotra             6\n",
       "C Ganapathy            6\n",
       "H Vihari               6\n",
       "RA Shaikh              6\n",
       "SPD Smith              2\n",
       "SN Khan                2\n",
       "AC Gilchrist           1\n",
       "Name: bowler, Length: 405, dtype: int64"
      ]
     },
     "execution_count": 26,
     "metadata": {},
     "output_type": "execute_result"
    }
   ],
   "source": [
    "a=deliveries_df.query(\"player_dismissed != 'NaN' & dismissal_kind != 'run out'\")\n",
    "b=a[\"bowler\"].value_counts()\n",
    "b"
   ]
  },
  {
   "cell_type": "code",
   "execution_count": 27,
   "metadata": {},
   "outputs": [
    {
     "data": {
      "text/html": [
       "<div>\n",
       "<style scoped>\n",
       "    .dataframe tbody tr th:only-of-type {\n",
       "        vertical-align: middle;\n",
       "    }\n",
       "\n",
       "    .dataframe tbody tr th {\n",
       "        vertical-align: top;\n",
       "    }\n",
       "\n",
       "    .dataframe thead th {\n",
       "        text-align: right;\n",
       "    }\n",
       "</style>\n",
       "<table border=\"1\" class=\"dataframe\">\n",
       "  <thead>\n",
       "    <tr style=\"text-align: right;\">\n",
       "      <th></th>\n",
       "      <th>Bowler</th>\n",
       "      <th>Wickets</th>\n",
       "    </tr>\n",
       "  </thead>\n",
       "  <tbody>\n",
       "    <tr>\n",
       "      <th>0</th>\n",
       "      <td>Harbhajan Singh</td>\n",
       "      <td>3440</td>\n",
       "    </tr>\n",
       "  </tbody>\n",
       "</table>\n",
       "</div>"
      ],
      "text/plain": [
       "            Bowler  Wickets\n",
       "0  Harbhajan Singh     3440"
      ]
     },
     "execution_count": 27,
     "metadata": {},
     "output_type": "execute_result"
    }
   ],
   "source": [
    "df1= pd.DataFrame(data=b.index, columns=['Bowler'])\n",
    "df2 = pd.DataFrame(data=b.values, columns=['Wickets'])\n",
    "d2 = pd.merge(df1, df2, left_index=True, right_index=True)\n",
    "d2\n",
    "df3 = d2.iloc[[0]]\n",
    "df3"
   ]
  },
  {
   "cell_type": "code",
   "execution_count": 28,
   "metadata": {},
   "outputs": [
    {
     "data": {
      "text/plain": [
       "CH Gayle           327\n",
       "AB de Villiers     214\n",
       "MS Dhoni           207\n",
       "SK Raina           195\n",
       "RG Sharma          194\n",
       "V Kohli            191\n",
       "DA Warner          181\n",
       "SR Watson          177\n",
       "KA Pollard         175\n",
       "YK Pathan          161\n",
       "RV Uthappa         156\n",
       "Yuvraj Singh       149\n",
       "BB McCullum        129\n",
       "AT Rayudu          120\n",
       "AD Russell         119\n",
       "DR Smith           117\n",
       "V Sehwag           106\n",
       "KD Karthik         101\n",
       "S Dhawan            96\n",
       "RR Pant             94\n",
       "AC Gilchrist        92\n",
       "GJ Maxwell          91\n",
       "M Vijay             91\n",
       "SV Samson           89\n",
       "DA Miller           87\n",
       "KL Rahul            81\n",
       "NV Ojha             79\n",
       "JP Duminy           79\n",
       "SE Marsh            78\n",
       "MK Pandey           76\n",
       "                  ... \n",
       "JJ Bumrah            1\n",
       "Anureet Singh        1\n",
       "H Brar               1\n",
       "Vishnu Vinod         1\n",
       "M Rawat              1\n",
       "RR Sarwan            1\n",
       "SK Trivedi           1\n",
       "M Kartik             1\n",
       "BA Bhatt             1\n",
       "S Gopal              1\n",
       "Basil Thampi         1\n",
       "SA Abbott            1\n",
       "AC Thomas            1\n",
       "KB Arun Karthik      1\n",
       "JD Unadkat           1\n",
       "T Kohli              1\n",
       "RJ Peterson          1\n",
       "A Choudhary          1\n",
       "TS Mills             1\n",
       "MA Khote             1\n",
       "AD Mascarenhas       1\n",
       "MN van Wyk           1\n",
       "WD Parnell           1\n",
       "A Nehra              1\n",
       "RP Singh             1\n",
       "H Klaasen            1\n",
       "Niraj Patel          1\n",
       "SN Thakur            1\n",
       "S Rana               1\n",
       "K Upadhyay           1\n",
       "Name: batsman, Length: 336, dtype: int64"
      ]
     },
     "execution_count": 28,
     "metadata": {},
     "output_type": "execute_result"
    }
   ],
   "source": [
    "a=deliveries_df.query(\"batsman_runs=='6'\")\n",
    "b=a[\"batsman\"].value_counts()\n",
    "b"
   ]
  },
  {
   "cell_type": "code",
   "execution_count": 29,
   "metadata": {},
   "outputs": [
    {
     "data": {
      "text/html": [
       "<div>\n",
       "<style scoped>\n",
       "    .dataframe tbody tr th:only-of-type {\n",
       "        vertical-align: middle;\n",
       "    }\n",
       "\n",
       "    .dataframe tbody tr th {\n",
       "        vertical-align: top;\n",
       "    }\n",
       "\n",
       "    .dataframe thead th {\n",
       "        text-align: right;\n",
       "    }\n",
       "</style>\n",
       "<table border=\"1\" class=\"dataframe\">\n",
       "  <thead>\n",
       "    <tr style=\"text-align: right;\">\n",
       "      <th></th>\n",
       "      <th>Batsman</th>\n",
       "      <th>NO of Sixes</th>\n",
       "    </tr>\n",
       "  </thead>\n",
       "  <tbody>\n",
       "    <tr>\n",
       "      <th>0</th>\n",
       "      <td>CH Gayle</td>\n",
       "      <td>327</td>\n",
       "    </tr>\n",
       "  </tbody>\n",
       "</table>\n",
       "</div>"
      ],
      "text/plain": [
       "    Batsman  NO of Sixes\n",
       "0  CH Gayle          327"
      ]
     },
     "execution_count": 29,
     "metadata": {},
     "output_type": "execute_result"
    }
   ],
   "source": [
    "df1= pd.DataFrame(data=b.index, columns=['Batsman'])\n",
    "df2 = pd.DataFrame(data=b.values, columns=['NO of Sixes'])\n",
    "d2 = pd.merge(df1, df2, left_index=True, right_index=True)\n",
    "d2\n",
    "df3 = d2.iloc[[0]]\n",
    "df3"
   ]
  }
 ],
 "metadata": {
  "kernelspec": {
   "display_name": "Python 3",
   "language": "python",
   "name": "python3"
  },
  "language_info": {
   "codemirror_mode": {
    "name": "ipython",
    "version": 3
   },
   "file_extension": ".py",
   "mimetype": "text/x-python",
   "name": "python",
   "nbconvert_exporter": "python",
   "pygments_lexer": "ipython3",
   "version": "3.6.4"
  }
 },
 "nbformat": 4,
 "nbformat_minor": 2
}
